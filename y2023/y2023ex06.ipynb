{
  "nbformat": 4,
  "nbformat_minor": 0,
  "metadata": {
    "colab": {
      "provenance": []
    },
    "kernelspec": {
      "name": "python3",
      "display_name": "Python 3"
    },
    "language_info": {
      "name": "python"
    }
  },
  "cells": [
    {
      "cell_type": "code",
      "execution_count": 2,
      "metadata": {
        "id": "s8-ySfUJnzMF"
      },
      "outputs": [],
      "source": [
        "#@title Readme input\n",
        "# https://adventofcode.com/2023/day/6\n",
        "readme_input=\"\"\"Time:      7  15   30\n",
        "Distance:  9  40  200\"\"\""
      ]
    },
    {
      "cell_type": "code",
      "source": [
        "#@title input\n",
        "_input=\"\"\"Time:        35     93     73     66\n",
        "Distance:   212   2060   1201   1044\"\"\""
      ],
      "metadata": {
        "id": "M0SjGiF-imbZ"
      },
      "execution_count": 3,
      "outputs": []
    },
    {
      "cell_type": "code",
      "source": [
        "from pprint import pprint\n",
        "\n",
        "def parser(s):\n",
        "    for line in s.splitlines():\n",
        "        if line.startswith('Time'):\n",
        "            _, *time = line.split()\n",
        "            time=map(int,time)\n",
        "        elif line.startswith('Distance'):\n",
        "            _, *distance = line.split()\n",
        "            distance=map(int,distance)\n",
        "    return list(zip(time, distance))\n",
        "pprint(parser(readme_input))"
      ],
      "metadata": {
        "colab": {
          "base_uri": "https://localhost:8080/"
        },
        "id": "5vWaCTT5h8dG",
        "outputId": "0b546672-17eb-4c7b-ede0-cd43fa7d78be"
      },
      "execution_count": 4,
      "outputs": [
        {
          "output_type": "stream",
          "name": "stdout",
          "text": [
            "[(7, 9), (15, 40), (30, 200)]\n"
          ]
        }
      ]
    },
    {
      "cell_type": "code",
      "source": [
        "def part1(data):\n",
        "    ret = 1\n",
        "    for game in data:\n",
        "        time, dist = game\n",
        "        acc = 0\n",
        "        for press in range(time):\n",
        "            distance = press*(time-press)\n",
        "            if distance>dist:\n",
        "                acc+=1\n",
        "        ret *= acc\n",
        "    return ret\n",
        "\n",
        "print(part1(parser(readme_input)))\n",
        "print(part1(parser(_input)))"
      ],
      "metadata": {
        "colab": {
          "base_uri": "https://localhost:8080/"
        },
        "id": "RSnUGyNrjgZA",
        "outputId": "f6f67488-eca8-4ba1-c093-16cc5c9d1251"
      },
      "execution_count": 7,
      "outputs": [
        {
          "output_type": "stream",
          "name": "stdout",
          "text": [
            "288\n",
            "114400\n"
          ]
        }
      ]
    },
    {
      "cell_type": "code",
      "source": [
        "def part2(s):\n",
        "    for line in s.splitlines():\n",
        "        if line.startswith('Time'):\n",
        "            _, time = line.split(maxsplit=1)\n",
        "            time=int(time.replace(' ',''))\n",
        "        elif line.startswith('Distance'):\n",
        "            _, distance = line.split(maxsplit=1)\n",
        "            distance=int(distance.replace(' ',''))\n",
        "\n",
        "    acc = 0\n",
        "    for press in range(time):\n",
        "        dist = press*(time-press)\n",
        "        if dist>distance:\n",
        "            acc+=1\n",
        "\n",
        "    return acc\n",
        "\n",
        "print(part2(readme_input))\n",
        "print(part2(_input))"
      ],
      "metadata": {
        "colab": {
          "base_uri": "https://localhost:8080/"
        },
        "id": "d0h_J5_tkpFW",
        "outputId": "3e81fe43-c919-45d8-c1b5-28280d5cbc8c"
      },
      "execution_count": 10,
      "outputs": [
        {
          "output_type": "stream",
          "name": "stdout",
          "text": [
            "71503\n",
            "21039729\n"
          ]
        }
      ]
    }
  ]
}