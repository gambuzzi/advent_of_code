{
  "nbformat": 4,
  "nbformat_minor": 0,
  "metadata": {
    "colab": {
      "provenance": []
    },
    "kernelspec": {
      "name": "python3",
      "display_name": "Python 3"
    },
    "language_info": {
      "name": "python"
    }
  },
  "cells": [
    {
      "cell_type": "code",
      "execution_count": 27,
      "metadata": {
        "id": "s8-ySfUJnzMF"
      },
      "outputs": [],
      "source": [
        "#@title Readme input\n",
        "# https://adventofcode.com/2023/day/6\n",
        "readme_input=\"\"\"Time:      7  15   30\n",
        "Distance:  9  40  200\"\"\""
      ]
    },
    {
      "cell_type": "code",
      "source": [
        "#@title input\n",
        "_input=\"\"\"Time:        35     93     73     66\n",
        "Distance:   212   2060   1201   1044\"\"\""
      ],
      "metadata": {
        "id": "M0SjGiF-imbZ"
      },
      "execution_count": 28,
      "outputs": []
    },
    {
      "cell_type": "code",
      "source": [
        "from pprint import pprint\n",
        "\n",
        "def parser(s):\n",
        "    for line in s.splitlines():\n",
        "        if line.startswith('Time'):\n",
        "            _, *time = line.split()\n",
        "            time=map(int,time)\n",
        "        elif line.startswith('Distance'):\n",
        "            _, *distance = line.split()\n",
        "            distance=map(int,distance)\n",
        "    return list(zip(time, distance))\n",
        "pprint(parser(readme_input))"
      ],
      "metadata": {
        "colab": {
          "base_uri": "https://localhost:8080/"
        },
        "id": "5vWaCTT5h8dG",
        "outputId": "521dc3b1-c75a-44b7-f035-62c72d3a4952"
      },
      "execution_count": 29,
      "outputs": [
        {
          "output_type": "stream",
          "name": "stdout",
          "text": [
            "[(7, 9), (15, 40), (30, 200)]\n"
          ]
        }
      ]
    },
    {
      "cell_type": "code",
      "source": [
        "def part1(data):\n",
        "    ret = 1\n",
        "    for game in data:\n",
        "        time, dist = game\n",
        "        acc = 0\n",
        "        for press in range(time):\n",
        "            distance = press*(time-press)\n",
        "            if distance>dist:\n",
        "                acc+=1\n",
        "        ret *= acc\n",
        "    return ret\n",
        "\n",
        "print(part1(parser(readme_input)))\n",
        "print(part1(parser(_input)))"
      ],
      "metadata": {
        "colab": {
          "base_uri": "https://localhost:8080/"
        },
        "id": "RSnUGyNrjgZA",
        "outputId": "8d859928-6453-4414-9618-06f8053187a0"
      },
      "execution_count": 30,
      "outputs": [
        {
          "output_type": "stream",
          "name": "stdout",
          "text": [
            "288\n",
            "114400\n"
          ]
        }
      ]
    },
    {
      "cell_type": "code",
      "source": [
        "from numba import njit\n",
        "\n",
        "@njit\n",
        "def nint(s):\n",
        "    ret = 0\n",
        "    for c in s:\n",
        "        ret *= 10\n",
        "        ret += ord(c) - 48\n",
        "    return ret\n",
        "\n",
        "\n",
        "@njit\n",
        "def part2(s):\n",
        "    for line in s.splitlines():\n",
        "        if line.startswith('Time'):\n",
        "            time = line.split()\n",
        "            time=nint(''.join(time[1::]))\n",
        "        elif line.startswith('Distance'):\n",
        "            distance = line.split()\n",
        "            distance=nint(''.join(distance[1::]))\n",
        "    acc = 0\n",
        "    for press in range(time):\n",
        "        dist = press*(time-press)\n",
        "        if dist>distance:\n",
        "            acc+=1\n",
        "\n",
        "    return acc\n",
        "\n",
        "print(part2(readme_input))\n",
        "print(part2(_input))\n",
        "%timeit -n 10 part2(_input)"
      ],
      "metadata": {
        "colab": {
          "base_uri": "https://localhost:8080/"
        },
        "id": "d0h_J5_tkpFW",
        "outputId": "e3c01223-49ce-4d68-f2c5-e7cb57dff22e"
      },
      "execution_count": 31,
      "outputs": [
        {
          "output_type": "stream",
          "name": "stdout",
          "text": [
            "71503\n",
            "21039729\n",
            "12.2 ms ± 325 µs per loop (mean ± std. dev. of 7 runs, 10 loops each)\n"
          ]
        }
      ]
    },
    {
      "cell_type": "code",
      "source": [
        "def part2(s):\n",
        "    for line in s.splitlines():\n",
        "        if line.startswith('Time'):\n",
        "            _, time = line.split(maxsplit=1)\n",
        "            time=int(time.replace(' ',''))\n",
        "        elif line.startswith('Distance'):\n",
        "            _, distance = line.split(maxsplit=1)\n",
        "            distance=int(distance.replace(' ',''))\n",
        "\n",
        "    acc = 0\n",
        "    for press in range(time):\n",
        "        dist = press*(time-press)\n",
        "        if dist>distance:\n",
        "            acc+=1\n",
        "\n",
        "    return acc\n",
        "\n",
        "print(part2(readme_input))\n",
        "print(part2(_input))\n",
        "%timeit -n 4 -r 4 part2(_input)"
      ],
      "metadata": {
        "colab": {
          "base_uri": "https://localhost:8080/"
        },
        "outputId": "f583f866-d993-4cb6-ec05-a3855de69fbd",
        "id": "oyOxlmX1wCCa"
      },
      "execution_count": 32,
      "outputs": [
        {
          "output_type": "stream",
          "name": "stdout",
          "text": [
            "71503\n",
            "21039729\n",
            "3.21 s ± 14.6 ms per loop (mean ± std. dev. of 4 runs, 4 loops each)\n"
          ]
        }
      ]
    }
  ]
}